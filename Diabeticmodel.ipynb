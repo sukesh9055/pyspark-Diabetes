{
 "cells": [
  {
   "cell_type": "code",
   "execution_count": 1,
   "id": "d2ef6822",
   "metadata": {},
   "outputs": [],
   "source": [
    "import findspark\n",
    "findspark.init()"
   ]
  },
  {
   "cell_type": "code",
   "execution_count": 2,
   "id": "6009d014",
   "metadata": {},
   "outputs": [],
   "source": [
    "from pyspark import SparkContext                                    # Importing SparkContext\n",
    "from pyspark.sql import SparkSession, Window, Row                   # Importing importing methods for creating a cluster\n",
    "from pyspark.sql import functions as F                              # Importing SQL Functions\n",
    "from pyspark.sql.functions import col, isnan, when, count           # Importing relevant dataframe functions\n",
    "from pyspark.sql.functions import *                                 # Importing inbuilt SQL Functions\n",
    "from pyspark.sql.types import *                                     # Importing SQL types\n",
    "\n",
    "import matplotlib.pyplot as plt                                     # Popular plotting library\n",
    "                                      \n",
    "import seaborn as sns                                               # Advanced plotting library\n",
    "from handyspark import *                                            # Helper library to plot graphs\n",
    "\n",
    "from pyspark.ml.feature import VectorAssembler                      # For processing dataset for ML\n",
    "from pyspark.ml.regression import LinearRegression                  # Importing mlib linear regression\n",
    "\n",
    "import warnings                                                     # Importing warning to disable runtime warnings\n",
    "warnings.filterwarnings(\"ignore\")  \n"
   ]
  },
  {
   "cell_type": "code",
   "execution_count": 3,
   "id": "52978fd9",
   "metadata": {},
   "outputs": [],
   "source": [
    "spark=SparkSession.builder.appName('diabetic').getOrCreate()"
   ]
  },
  {
   "cell_type": "code",
   "execution_count": 4,
   "id": "92fdd7df",
   "metadata": {},
   "outputs": [],
   "source": [
    "data = spark.read.csv('newd/diabetes.csv',inferSchema=True,header=True)"
   ]
  },
  {
   "cell_type": "code",
   "execution_count": 5,
   "id": "2c006456",
   "metadata": {},
   "outputs": [
    {
     "name": "stdout",
     "output_type": "stream",
     "text": [
      "shape of dataset (2000, 9)\n"
     ]
    }
   ],
   "source": [
    "print(\"shape of dataset\",(data.count(),len(data.columns)))"
   ]
  },
  {
   "cell_type": "code",
   "execution_count": 6,
   "id": "70087df9",
   "metadata": {
    "scrolled": true
   },
   "outputs": [
    {
     "name": "stdout",
     "output_type": "stream",
     "text": [
      "+-----------+-------+-------------+-------------+-------+----+------------------------+---+-------+\n",
      "|Pregnancies|Glucose|BloodPressure|SkinThickness|Insulin| BMI|DiabetesPedigreeFunction|Age|Outcome|\n",
      "+-----------+-------+-------------+-------------+-------+----+------------------------+---+-------+\n",
      "|          2|    138|           62|           35|      0|33.6|                   0.127| 47|      1|\n",
      "|          0|     84|           82|           31|    125|38.2|                   0.233| 23|      0|\n",
      "|          0|    145|            0|            0|      0|44.2|                    0.63| 31|      1|\n",
      "|          0|    135|           68|           42|    250|42.3|                   0.365| 24|      1|\n",
      "|          1|    139|           62|           41|    480|40.7|                   0.536| 21|      0|\n",
      "+-----------+-------+-------------+-------------+-------+----+------------------------+---+-------+\n",
      "only showing top 5 rows\n",
      "\n"
     ]
    }
   ],
   "source": [
    "data.show(5)"
   ]
  },
  {
   "cell_type": "code",
   "execution_count": 7,
   "id": "6b032d15",
   "metadata": {},
   "outputs": [
    {
     "data": {
      "text/plain": [
       "[Row(Pregnancies=2, Glucose=138, BloodPressure=62, SkinThickness=35, Insulin=0, BMI=33.6, DiabetesPedigreeFunction=0.127, Age=47, Outcome=1),\n",
       " Row(Pregnancies=0, Glucose=84, BloodPressure=82, SkinThickness=31, Insulin=125, BMI=38.2, DiabetesPedigreeFunction=0.233, Age=23, Outcome=0),\n",
       " Row(Pregnancies=0, Glucose=145, BloodPressure=0, SkinThickness=0, Insulin=0, BMI=44.2, DiabetesPedigreeFunction=0.63, Age=31, Outcome=1),\n",
       " Row(Pregnancies=0, Glucose=135, BloodPressure=68, SkinThickness=42, Insulin=250, BMI=42.3, DiabetesPedigreeFunction=0.365, Age=24, Outcome=1),\n",
       " Row(Pregnancies=1, Glucose=139, BloodPressure=62, SkinThickness=41, Insulin=480, BMI=40.7, DiabetesPedigreeFunction=0.536, Age=21, Outcome=0)]"
      ]
     },
     "execution_count": 7,
     "metadata": {},
     "output_type": "execute_result"
    }
   ],
   "source": [
    "data.head(5)"
   ]
  },
  {
   "cell_type": "code",
   "execution_count": 8,
   "id": "1dd32321",
   "metadata": {},
   "outputs": [
    {
     "name": "stdout",
     "output_type": "stream",
     "text": [
      "+-------+-----------------+------------------+------------------+-----------------+-----------------+------------------+------------------------+------------------+------------------+\n",
      "|summary|      Pregnancies|           Glucose|     BloodPressure|    SkinThickness|          Insulin|               BMI|DiabetesPedigreeFunction|               Age|           Outcome|\n",
      "+-------+-----------------+------------------+------------------+-----------------+-----------------+------------------+------------------------+------------------+------------------+\n",
      "|  count|             2000|              2000|              2000|             2000|             2000|              2000|                    2000|              2000|              2000|\n",
      "|   mean|           3.7035|          121.1825|           69.1455|           20.935|           80.254|32.192999999999984|     0.47092999999999974|           33.0905|             0.342|\n",
      "| stddev|3.306063032730656|32.068635649902916|19.188314815604098|16.10324290992682|111.1805335457595| 8.149900701279762|      0.3235525586811429|11.786423106049496|0.4744982342297426|\n",
      "|    min|                0|                 0|                 0|                0|                0|               0.0|                   0.078|                21|                 0|\n",
      "|    max|               17|               199|               122|              110|              744|              80.6|                    2.42|                81|                 1|\n",
      "+-------+-----------------+------------------+------------------+-----------------+-----------------+------------------+------------------------+------------------+------------------+\n",
      "\n"
     ]
    }
   ],
   "source": [
    "data.describe().show()"
   ]
  },
  {
   "cell_type": "code",
   "execution_count": 9,
   "id": "53b6e320",
   "metadata": {},
   "outputs": [
    {
     "name": "stdout",
     "output_type": "stream",
     "text": [
      "root\n",
      " |-- Pregnancies: integer (nullable = true)\n",
      " |-- Glucose: integer (nullable = true)\n",
      " |-- BloodPressure: integer (nullable = true)\n",
      " |-- SkinThickness: integer (nullable = true)\n",
      " |-- Insulin: integer (nullable = true)\n",
      " |-- BMI: double (nullable = true)\n",
      " |-- DiabetesPedigreeFunction: double (nullable = true)\n",
      " |-- Age: integer (nullable = true)\n",
      " |-- Outcome: integer (nullable = true)\n",
      "\n"
     ]
    }
   ],
   "source": [
    "data.printSchema()"
   ]
  },
  {
   "cell_type": "code",
   "execution_count": 10,
   "id": "0b686e7b",
   "metadata": {},
   "outputs": [
    {
     "data": {
      "text/plain": [
       "[('Pregnancies', 'int'),\n",
       " ('Glucose', 'int'),\n",
       " ('BloodPressure', 'int'),\n",
       " ('SkinThickness', 'int'),\n",
       " ('Insulin', 'int'),\n",
       " ('BMI', 'double'),\n",
       " ('DiabetesPedigreeFunction', 'double'),\n",
       " ('Age', 'int'),\n",
       " ('Outcome', 'int')]"
      ]
     },
     "execution_count": 10,
     "metadata": {},
     "output_type": "execute_result"
    }
   ],
   "source": [
    "data.dtypes"
   ]
  },
  {
   "cell_type": "code",
   "execution_count": 11,
   "id": "5fcb3635",
   "metadata": {},
   "outputs": [
    {
     "name": "stdout",
     "output_type": "stream",
     "text": [
      "Mean value Glucose is 121\n",
      "Mean value BloodPressure is 69\n",
      "Mean value SkinThickness is 20\n",
      "Mean value Insulin is 80\n",
      "Mean value BMI is 32\n"
     ]
    }
   ],
   "source": [
    "from pyspark.sql.functions import *\n",
    "for i in data.columns[1:6]:\n",
    "    data1=data.agg({i:\"mean\"}).first()[0]\n",
    "    print(\"Mean value {} is {}\".format(i,int(data1)))\n",
    "    data = data.withColumn(i,when(data[i]==0,int(data1)).otherwise(data[i]))"
   ]
  },
  {
   "cell_type": "code",
   "execution_count": 12,
   "id": "332bd190",
   "metadata": {},
   "outputs": [
    {
     "data": {
      "text/plain": [
       "['Pregnancies',\n",
       " 'Glucose',\n",
       " 'BloodPressure',\n",
       " 'SkinThickness',\n",
       " 'Insulin',\n",
       " 'BMI',\n",
       " 'DiabetesPedigreeFunction',\n",
       " 'Age',\n",
       " 'Outcome']"
      ]
     },
     "execution_count": 12,
     "metadata": {},
     "output_type": "execute_result"
    }
   ],
   "source": [
    "data.columns"
   ]
  },
  {
   "cell_type": "markdown",
   "id": "3a8b8ca2",
   "metadata": {},
   "source": [
    "### Data Post-Processing\n"
   ]
  },
  {
   "cell_type": "code",
   "execution_count": 13,
   "id": "f71e325a",
   "metadata": {},
   "outputs": [],
   "source": [
    "from pyspark.ml.feature import VectorAssembler\n",
    "from pyspark.ml.regression import LinearRegression\n",
    "assembler = VectorAssembler(inputCols=['Pregnancies',\n",
    " 'Glucose',\n",
    " 'BloodPressure',\n",
    " 'BMI',\n",
    " 'Age'],outputCol='featured')"
   ]
  },
  {
   "cell_type": "code",
   "execution_count": 14,
   "id": "90fa3f59",
   "metadata": {},
   "outputs": [
    {
     "name": "stdout",
     "output_type": "stream",
     "text": [
      "+-----------+-------+-------------+-------------+-------+----+------------------------+---+-------+--------------------+\n",
      "|Pregnancies|Glucose|BloodPressure|SkinThickness|Insulin| BMI|DiabetesPedigreeFunction|Age|Outcome|            featured|\n",
      "+-----------+-------+-------------+-------------+-------+----+------------------------+---+-------+--------------------+\n",
      "|          2|    138|           62|           35|     80|33.6|                   0.127| 47|      1|[2.0,138.0,62.0,3...|\n",
      "|          0|     84|           82|           31|    125|38.2|                   0.233| 23|      0|[0.0,84.0,82.0,38...|\n",
      "|          0|    145|           69|           20|     80|44.2|                    0.63| 31|      1|[0.0,145.0,69.0,4...|\n",
      "|          0|    135|           68|           42|    250|42.3|                   0.365| 24|      1|[0.0,135.0,68.0,4...|\n",
      "|          1|    139|           62|           41|    480|40.7|                   0.536| 21|      0|[1.0,139.0,62.0,4...|\n",
      "+-----------+-------+-------------+-------------+-------+----+------------------------+---+-------+--------------------+\n",
      "only showing top 5 rows\n",
      "\n"
     ]
    }
   ],
   "source": [
    "output = assembler.transform(data)\n",
    "output.show(5)"
   ]
  },
  {
   "cell_type": "code",
   "execution_count": 15,
   "id": "84a127f7",
   "metadata": {},
   "outputs": [
    {
     "data": {
      "text/plain": [
       "['Pregnancies',\n",
       " 'Glucose',\n",
       " 'BloodPressure',\n",
       " 'SkinThickness',\n",
       " 'Insulin',\n",
       " 'BMI',\n",
       " 'DiabetesPedigreeFunction',\n",
       " 'Age',\n",
       " 'Outcome',\n",
       " 'featured']"
      ]
     },
     "execution_count": 15,
     "metadata": {},
     "output_type": "execute_result"
    }
   ],
   "source": [
    "output.columns"
   ]
  },
  {
   "cell_type": "code",
   "execution_count": 16,
   "id": "32e3c6eb",
   "metadata": {},
   "outputs": [
    {
     "name": "stdout",
     "output_type": "stream",
     "text": [
      "+--------------------+-------+\n",
      "|            featured|Outcome|\n",
      "+--------------------+-------+\n",
      "|[2.0,138.0,62.0,3...|      1|\n",
      "|[0.0,84.0,82.0,38...|      0|\n",
      "|[0.0,145.0,69.0,4...|      1|\n",
      "|[0.0,135.0,68.0,4...|      1|\n",
      "|[1.0,139.0,62.0,4...|      0|\n",
      "+--------------------+-------+\n",
      "only showing top 5 rows\n",
      "\n"
     ]
    }
   ],
   "source": [
    "final_data=output.select(\"featured\",\"Outcome\")\n",
    "final_data.show(5)"
   ]
  },
  {
   "cell_type": "code",
   "execution_count": 17,
   "id": "60d813e5",
   "metadata": {},
   "outputs": [],
   "source": [
    "train_data,test_data=final_data.randomSplit([0.8,0.2])"
   ]
  },
  {
   "cell_type": "markdown",
   "id": "52a5d89f",
   "metadata": {},
   "source": [
    "### Linear Regression Using PySpark"
   ]
  },
  {
   "cell_type": "code",
   "execution_count": 18,
   "id": "a8807b3c",
   "metadata": {},
   "outputs": [],
   "source": [
    "lr=LinearRegression(featuresCol=\"featured\",labelCol=\"Outcome\")\n",
    "lr_model=lr.fit(train_data)"
   ]
  },
  {
   "cell_type": "code",
   "execution_count": 19,
   "id": "e0fcc459",
   "metadata": {},
   "outputs": [
    {
     "data": {
      "text/plain": [
       "-0.9274057809054377"
      ]
     },
     "execution_count": 19,
     "metadata": {},
     "output_type": "execute_result"
    }
   ],
   "source": [
    "lr_model.intercept"
   ]
  },
  {
   "cell_type": "code",
   "execution_count": 20,
   "id": "62ae246e",
   "metadata": {},
   "outputs": [
    {
     "data": {
      "text/plain": [
       "DenseVector([0.0203, 0.0063, -0.0004, 0.0121, 0.0019])"
      ]
     },
     "execution_count": 20,
     "metadata": {},
     "output_type": "execute_result"
    }
   ],
   "source": [
    "lr_model.coefficients"
   ]
  },
  {
   "cell_type": "code",
   "execution_count": 21,
   "id": "33343426",
   "metadata": {},
   "outputs": [],
   "source": [
    "pred_train = lr_model.evaluate(train_data)"
   ]
  },
  {
   "cell_type": "code",
   "execution_count": 22,
   "id": "a9f8565b",
   "metadata": {},
   "outputs": [
    {
     "data": {
      "text/plain": [
       "0.28442025034109264"
      ]
     },
     "execution_count": 22,
     "metadata": {},
     "output_type": "execute_result"
    }
   ],
   "source": [
    "pred_train.r2"
   ]
  },
  {
   "cell_type": "code",
   "execution_count": 23,
   "id": "21b534a2",
   "metadata": {},
   "outputs": [
    {
     "name": "stdout",
     "output_type": "stream",
     "text": [
      "+--------------------+-------+--------------------+\n",
      "|            featured|Outcome|          prediction|\n",
      "+--------------------+-------+--------------------+\n",
      "|[0.0,57.0,60.0,21...|      0| -0.2037197665847359|\n",
      "|[0.0,67.0,76.0,45...|      0| 0.09667618316416071|\n",
      "|[0.0,67.0,76.0,45...|      0| 0.09667618316416071|\n",
      "|[0.0,73.0,69.0,21...|      0|-0.19558481539681205|\n",
      "|[0.0,73.0,69.0,21...|      0|-0.19558481539681205|\n",
      "|[0.0,74.0,52.0,27...|      0|-0.10685325489076847|\n",
      "|[0.0,74.0,52.0,27...|      0|-0.10685325489076847|\n",
      "|[0.0,74.0,52.0,27...|      0|-0.10685325489076847|\n",
      "|[0.0,78.0,88.0,36...|      0|0.010766905896229972|\n",
      "|[0.0,78.0,88.0,36...|      0|0.010766905896229972|\n",
      "|[0.0,84.0,64.0,35...|      0|0.045472252827062354|\n",
      "|[0.0,84.0,64.0,35...|      0|0.045472252827062354|\n",
      "|[0.0,84.0,64.0,35...|      0|0.045472252827062354|\n",
      "|[0.0,84.0,82.0,38...|      0| 0.07058654275481369|\n",
      "|[0.0,84.0,82.0,38...|      0| 0.07058654275481369|\n",
      "|[0.0,84.0,82.0,38...|      0| 0.07058654275481369|\n",
      "|[0.0,86.0,68.0,35...|      0| 0.06403940426578969|\n",
      "|[0.0,86.0,68.0,35...|      0| 0.06403940426578969|\n",
      "|[0.0,91.0,68.0,39...|      0| 0.14495835418677938|\n",
      "|[0.0,91.0,68.0,39...|      0| 0.14495835418677938|\n",
      "+--------------------+-------+--------------------+\n",
      "only showing top 20 rows\n",
      "\n"
     ]
    }
   ],
   "source": [
    "pred_train.predictions.show()"
   ]
  },
  {
   "cell_type": "markdown",
   "id": "e2ddfbff",
   "metadata": {},
   "source": [
    "### Model Evaluation on Test Set"
   ]
  },
  {
   "cell_type": "code",
   "execution_count": 24,
   "id": "ec11ca75",
   "metadata": {},
   "outputs": [],
   "source": [
    "pred_test=lr_model.evaluate(test_data)"
   ]
  },
  {
   "cell_type": "code",
   "execution_count": 25,
   "id": "31a23f62",
   "metadata": {},
   "outputs": [
    {
     "name": "stdout",
     "output_type": "stream",
     "text": [
      "+--------------------+-------+--------------------+\n",
      "|            featured|Outcome|          prediction|\n",
      "+--------------------+-------+--------------------+\n",
      "|[0.0,57.0,60.0,21...|      0| -0.2037197665847359|\n",
      "|[0.0,84.0,82.0,38...|      0| 0.07058654275481369|\n",
      "|[0.0,91.0,80.0,32...|      0|0.053058615220037075|\n",
      "|[0.0,95.0,80.0,36...|      0| 0.12576656540472242|\n",
      "|[0.0,97.0,64.0,36...|      0| 0.14689762040876664|\n",
      "|[0.0,100.0,70.0,3...|      0|  0.0829350391770789|\n",
      "|[0.0,100.0,88.0,4...|      0|   0.287807205087405|\n",
      "|[0.0,100.0,88.0,4...|      0|   0.287807205087405|\n",
      "|[0.0,101.0,64.0,2...|      0|-0.02659306394627825|\n",
      "|[0.0,101.0,64.0,2...|      0|-0.02659306394627825|\n",
      "|[0.0,102.0,64.0,4...|      0| 0.21646001759527422|\n",
      "|[0.0,102.0,75.0,3...|      0| 0.10783592098601846|\n",
      "|[0.0,104.0,64.0,2...|      0| 0.07825331994678963|\n",
      "|[0.0,105.0,64.0,4...|      0| 0.24809912574766124|\n",
      "|[0.0,106.0,70.0,3...|      0| 0.22642664016600733|\n",
      "|[0.0,107.0,76.0,4...|      0|  0.3052633116078902|\n",
      "|[0.0,117.0,69.0,3...|      0| 0.27079206688975455|\n",
      "|[0.0,117.0,69.0,3...|      0| 0.27079206688975455|\n",
      "|[0.0,119.0,64.0,3...|      0|  0.2581922615043142|\n",
      "|[0.0,119.0,69.0,3...|      1| 0.22777311806335865|\n",
      "+--------------------+-------+--------------------+\n",
      "only showing top 20 rows\n",
      "\n"
     ]
    }
   ],
   "source": [
    "pred_test.predictions.show()"
   ]
  },
  {
   "cell_type": "code",
   "execution_count": 26,
   "id": "065aa88d",
   "metadata": {},
   "outputs": [
    {
     "data": {
      "text/plain": [
       "0.3569867277825006"
      ]
     },
     "execution_count": 26,
     "metadata": {},
     "output_type": "execute_result"
    }
   ],
   "source": [
    "pred_test.r2"
   ]
  },
  {
   "cell_type": "markdown",
   "id": "c4b622a8",
   "metadata": {},
   "source": [
    "### Logistic regression"
   ]
  },
  {
   "cell_type": "code",
   "execution_count": 27,
   "id": "6cf70d87",
   "metadata": {},
   "outputs": [],
   "source": [
    "from pyspark.sql import SparkSession\n",
    "spark=SparkSession.builder.appName('diabetics project').getOrCreate()"
   ]
  },
  {
   "cell_type": "code",
   "execution_count": 28,
   "id": "e76c4d30",
   "metadata": {},
   "outputs": [],
   "source": [
    "import matplotlib.pyplot as plt"
   ]
  },
  {
   "cell_type": "code",
   "execution_count": 29,
   "id": "2a180d4e",
   "metadata": {},
   "outputs": [],
   "source": [
    "df=spark.read.csv('newd/diabetes.csv',inferSchema=True,header=True)"
   ]
  },
  {
   "cell_type": "code",
   "execution_count": 30,
   "id": "1658e269",
   "metadata": {},
   "outputs": [
    {
     "name": "stdout",
     "output_type": "stream",
     "text": [
      "+-----------+-------+-------------+-------------+-------+----+------------------------+---+-------+\n",
      "|Pregnancies|Glucose|BloodPressure|SkinThickness|Insulin| BMI|DiabetesPedigreeFunction|Age|Outcome|\n",
      "+-----------+-------+-------------+-------------+-------+----+------------------------+---+-------+\n",
      "|          2|    138|           62|           35|      0|33.6|                   0.127| 47|      1|\n",
      "|          0|     84|           82|           31|    125|38.2|                   0.233| 23|      0|\n",
      "|          0|    145|            0|            0|      0|44.2|                    0.63| 31|      1|\n",
      "|          0|    135|           68|           42|    250|42.3|                   0.365| 24|      1|\n",
      "+-----------+-------+-------------+-------------+-------+----+------------------------+---+-------+\n",
      "only showing top 4 rows\n",
      "\n"
     ]
    }
   ],
   "source": [
    "df.show(4)"
   ]
  },
  {
   "cell_type": "code",
   "execution_count": 31,
   "id": "c4365c27",
   "metadata": {},
   "outputs": [
    {
     "data": {
      "text/plain": [
       "['Pregnancies',\n",
       " 'Glucose',\n",
       " 'BloodPressure',\n",
       " 'SkinThickness',\n",
       " 'Insulin',\n",
       " 'BMI',\n",
       " 'DiabetesPedigreeFunction',\n",
       " 'Age',\n",
       " 'Outcome']"
      ]
     },
     "execution_count": 31,
     "metadata": {},
     "output_type": "execute_result"
    }
   ],
   "source": [
    "df.columns"
   ]
  },
  {
   "cell_type": "code",
   "execution_count": 32,
   "id": "281a9aa1",
   "metadata": {},
   "outputs": [
    {
     "name": "stdout",
     "output_type": "stream",
     "text": [
      "root\n",
      " |-- Pregnancies: integer (nullable = true)\n",
      " |-- Glucose: integer (nullable = true)\n",
      " |-- BloodPressure: integer (nullable = true)\n",
      " |-- SkinThickness: integer (nullable = true)\n",
      " |-- Insulin: integer (nullable = true)\n",
      " |-- BMI: double (nullable = true)\n",
      " |-- DiabetesPedigreeFunction: double (nullable = true)\n",
      " |-- Age: integer (nullable = true)\n",
      " |-- Outcome: integer (nullable = true)\n",
      "\n"
     ]
    }
   ],
   "source": [
    "df.printSchema()"
   ]
  },
  {
   "cell_type": "code",
   "execution_count": 33,
   "id": "dfa9a2f8",
   "metadata": {},
   "outputs": [
    {
     "name": "stdout",
     "output_type": "stream",
     "text": [
      "(2000, 9)\n"
     ]
    }
   ],
   "source": [
    "print((df.count(),len(df.columns)))"
   ]
  },
  {
   "cell_type": "code",
   "execution_count": 34,
   "id": "3526bd72",
   "metadata": {},
   "outputs": [
    {
     "name": "stdout",
     "output_type": "stream",
     "text": [
      "+-------+-----+\n",
      "|outcome|count|\n",
      "+-------+-----+\n",
      "|      1|  684|\n",
      "|      0| 1316|\n",
      "+-------+-----+\n",
      "\n"
     ]
    }
   ],
   "source": [
    "df.groupby('outcome').count().show()"
   ]
  },
  {
   "cell_type": "code",
   "execution_count": 35,
   "id": "ed141da0",
   "metadata": {},
   "outputs": [
    {
     "name": "stdout",
     "output_type": "stream",
     "text": [
      "+-------+-----------------+------------------+------------------+-----------------+-----------------+------------------+------------------------+------------------+------------------+\n",
      "|summary|      Pregnancies|           Glucose|     BloodPressure|    SkinThickness|          Insulin|               BMI|DiabetesPedigreeFunction|               Age|           Outcome|\n",
      "+-------+-----------------+------------------+------------------+-----------------+-----------------+------------------+------------------------+------------------+------------------+\n",
      "|  count|             2000|              2000|              2000|             2000|             2000|              2000|                    2000|              2000|              2000|\n",
      "|   mean|           3.7035|          121.1825|           69.1455|           20.935|           80.254|32.192999999999984|     0.47092999999999974|           33.0905|             0.342|\n",
      "| stddev|3.306063032730656|32.068635649902916|19.188314815604098|16.10324290992682|111.1805335457595| 8.149900701279762|      0.3235525586811429|11.786423106049496|0.4744982342297426|\n",
      "|    min|                0|                 0|                 0|                0|                0|               0.0|                   0.078|                21|                 0|\n",
      "|    max|               17|               199|               122|              110|              744|              80.6|                    2.42|                81|                 1|\n",
      "+-------+-----------------+------------------+------------------+-----------------+-----------------+------------------+------------------------+------------------+------------------+\n",
      "\n"
     ]
    }
   ],
   "source": [
    "df.describe().show()"
   ]
  },
  {
   "cell_type": "markdown",
   "id": "6adcc1f5",
   "metadata": {},
   "source": [
    "### check Null values"
   ]
  },
  {
   "cell_type": "code",
   "execution_count": 36,
   "id": "ad30d7f3",
   "metadata": {},
   "outputs": [
    {
     "name": "stdout",
     "output_type": "stream",
     "text": [
      "Pregnancies: 0\n",
      "Glucose: 0\n",
      "BloodPressure: 0\n",
      "SkinThickness: 0\n",
      "Insulin: 0\n",
      "BMI: 0\n",
      "DiabetesPedigreeFunction: 0\n",
      "Age: 0\n",
      "Outcome: 0\n"
     ]
    }
   ],
   "source": [
    "for col in df.columns:\n",
    "    print(col +\":\",df[df[col].isNull()].count())"
   ]
  },
  {
   "cell_type": "code",
   "execution_count": 37,
   "id": "551c46ed",
   "metadata": {},
   "outputs": [
    {
     "data": {
      "text/plain": [
       "['Pregnancies',\n",
       " 'Glucose',\n",
       " 'BloodPressure',\n",
       " 'SkinThickness',\n",
       " 'Insulin',\n",
       " 'BMI',\n",
       " 'DiabetesPedigreeFunction',\n",
       " 'Age',\n",
       " 'Outcome']"
      ]
     },
     "execution_count": 37,
     "metadata": {},
     "output_type": "execute_result"
    }
   ],
   "source": [
    "df.columns"
   ]
  },
  {
   "cell_type": "code",
   "execution_count": 38,
   "id": "bf9eb8bf",
   "metadata": {},
   "outputs": [
    {
     "name": "stdout",
     "output_type": "stream",
     "text": [
      "Glucose: 13\n",
      "BloodPressure: 90\n",
      "SkinThickness: 573\n",
      "Insulin: 956\n",
      "BMI: 28\n"
     ]
    }
   ],
   "source": [
    "def count_zeros():\n",
    "    column_list=['Glucose','BloodPressure','SkinThickness','Insulin','BMI']\n",
    "    for i in column_list:\n",
    "        print(i+\":\",df[df[i]==0].count())\n",
    "count_zeros()"
   ]
  },
  {
   "cell_type": "markdown",
   "id": "f826b672",
   "metadata": {},
   "source": [
    "### Replacing zeros with the mean value"
   ]
  },
  {
   "cell_type": "code",
   "execution_count": 39,
   "id": "e21d7534",
   "metadata": {},
   "outputs": [
    {
     "name": "stdout",
     "output_type": "stream",
     "text": [
      "Mean value Glucose is 121\n",
      "Mean value BloodPressure is 69\n",
      "Mean value SkinThickness is 20\n",
      "Mean value Insulin is 80\n",
      "Mean value BMI is 32\n"
     ]
    }
   ],
   "source": [
    "from pyspark.sql.functions import *\n",
    "for i in df.columns[1:6]:\n",
    "    data=df.agg({i:\"mean\"}).first()[0]\n",
    "    print(\"Mean value {} is {}\".format(i,int(data)))\n",
    "    df = df.withColumn(i,when(df[i]==0,int(data)).otherwise(df[i]))"
   ]
  },
  {
   "cell_type": "code",
   "execution_count": 40,
   "id": "8670fd7e",
   "metadata": {
    "scrolled": true
   },
   "outputs": [
    {
     "name": "stdout",
     "output_type": "stream",
     "text": [
      "+-----------+-------+-------------+-------------+-------+----+------------------------+---+-------+\n",
      "|Pregnancies|Glucose|BloodPressure|SkinThickness|Insulin| BMI|DiabetesPedigreeFunction|Age|Outcome|\n",
      "+-----------+-------+-------------+-------------+-------+----+------------------------+---+-------+\n",
      "|          2|    138|           62|           35|     80|33.6|                   0.127| 47|      1|\n",
      "|          0|     84|           82|           31|    125|38.2|                   0.233| 23|      0|\n",
      "|          0|    145|           69|           20|     80|44.2|                    0.63| 31|      1|\n",
      "|          0|    135|           68|           42|    250|42.3|                   0.365| 24|      1|\n",
      "|          1|    139|           62|           41|    480|40.7|                   0.536| 21|      0|\n",
      "|          0|    173|           78|           32|    265|46.5|                   1.159| 58|      0|\n",
      "|          4|     99|           72|           17|     80|25.6|                   0.294| 28|      0|\n",
      "|          8|    194|           80|           20|     80|26.1|                   0.551| 67|      0|\n",
      "|          2|     83|           65|           28|     66|36.8|                   0.629| 24|      0|\n",
      "|          2|     89|           90|           30|     80|33.5|                   0.292| 42|      0|\n",
      "|          4|     99|           68|           38|     80|32.8|                   0.145| 33|      0|\n",
      "|          4|    125|           70|           18|    122|28.9|                   1.144| 45|      1|\n",
      "|          3|     80|           69|           20|     80|32.0|                   0.174| 22|      0|\n",
      "|          6|    166|           74|           20|     80|26.6|                   0.304| 66|      0|\n",
      "|          5|    110|           68|           20|     80|26.0|                   0.292| 30|      0|\n",
      "|          2|     81|           72|           15|     76|30.1|                   0.547| 25|      0|\n",
      "|          7|    195|           70|           33|    145|25.1|                   0.163| 55|      1|\n",
      "|          6|    154|           74|           32|    193|29.3|                   0.839| 39|      0|\n",
      "|          2|    117|           90|           19|     71|25.2|                   0.313| 21|      0|\n",
      "|          3|     84|           72|           32|     80|37.2|                   0.267| 28|      0|\n",
      "+-----------+-------+-------------+-------------+-------+----+------------------------+---+-------+\n",
      "only showing top 20 rows\n",
      "\n"
     ]
    }
   ],
   "source": [
    "df.show()"
   ]
  },
  {
   "cell_type": "code",
   "execution_count": 58,
   "id": "38312861",
   "metadata": {},
   "outputs": [
    {
     "data": {
      "text/html": [
       "<div>\n",
       "<style scoped>\n",
       "    .dataframe tbody tr th:only-of-type {\n",
       "        vertical-align: middle;\n",
       "    }\n",
       "\n",
       "    .dataframe tbody tr th {\n",
       "        vertical-align: top;\n",
       "    }\n",
       "\n",
       "    .dataframe thead th {\n",
       "        text-align: right;\n",
       "    }\n",
       "</style>\n",
       "<table border=\"1\" class=\"dataframe\">\n",
       "  <thead>\n",
       "    <tr style=\"text-align: right;\">\n",
       "      <th></th>\n",
       "      <th>0</th>\n",
       "      <th>1</th>\n",
       "      <th>2</th>\n",
       "      <th>3</th>\n",
       "      <th>4</th>\n",
       "    </tr>\n",
       "  </thead>\n",
       "  <tbody>\n",
       "    <tr>\n",
       "      <th>summary</th>\n",
       "      <td>count</td>\n",
       "      <td>mean</td>\n",
       "      <td>stddev</td>\n",
       "      <td>min</td>\n",
       "      <td>max</td>\n",
       "    </tr>\n",
       "    <tr>\n",
       "      <th>Pregnancies</th>\n",
       "      <td>2000</td>\n",
       "      <td>3.7035</td>\n",
       "      <td>3.306063032730656</td>\n",
       "      <td>0</td>\n",
       "      <td>17</td>\n",
       "    </tr>\n",
       "    <tr>\n",
       "      <th>Glucose</th>\n",
       "      <td>2000</td>\n",
       "      <td>121.969</td>\n",
       "      <td>30.533214334373536</td>\n",
       "      <td>44</td>\n",
       "      <td>199</td>\n",
       "    </tr>\n",
       "    <tr>\n",
       "      <th>BloodPressure</th>\n",
       "      <td>2000</td>\n",
       "      <td>72.2505</td>\n",
       "      <td>11.970354817098098</td>\n",
       "      <td>24</td>\n",
       "      <td>122</td>\n",
       "    </tr>\n",
       "    <tr>\n",
       "      <th>SkinThickness</th>\n",
       "      <td>2000</td>\n",
       "      <td>26.665</td>\n",
       "      <td>10.054218948249018</td>\n",
       "      <td>7</td>\n",
       "      <td>110</td>\n",
       "    </tr>\n",
       "    <tr>\n",
       "      <th>Insulin</th>\n",
       "      <td>2000</td>\n",
       "      <td>118.494</td>\n",
       "      <td>88.41897942162065</td>\n",
       "      <td>14</td>\n",
       "      <td>744</td>\n",
       "    </tr>\n",
       "    <tr>\n",
       "      <th>Age</th>\n",
       "      <td>2000</td>\n",
       "      <td>33.0905</td>\n",
       "      <td>11.786423106049496</td>\n",
       "      <td>21</td>\n",
       "      <td>81</td>\n",
       "    </tr>\n",
       "    <tr>\n",
       "      <th>Outcome</th>\n",
       "      <td>2000</td>\n",
       "      <td>0.342</td>\n",
       "      <td>0.4744982342297426</td>\n",
       "      <td>0</td>\n",
       "      <td>1</td>\n",
       "    </tr>\n",
       "  </tbody>\n",
       "</table>\n",
       "</div>"
      ],
      "text/plain": [
       "                   0        1                   2    3    4\n",
       "summary        count     mean              stddev  min  max\n",
       "Pregnancies     2000   3.7035   3.306063032730656    0   17\n",
       "Glucose         2000  121.969  30.533214334373536   44  199\n",
       "BloodPressure   2000  72.2505  11.970354817098098   24  122\n",
       "SkinThickness   2000   26.665  10.054218948249018    7  110\n",
       "Insulin         2000  118.494   88.41897942162065   14  744\n",
       "Age             2000  33.0905  11.786423106049496   21   81\n",
       "Outcome         2000    0.342  0.4744982342297426    0    1"
      ]
     },
     "execution_count": 58,
     "metadata": {},
     "output_type": "execute_result"
    }
   ],
   "source": [
    "numeric_features = [t[0] for t in df.dtypes if t[1] == 'int']\n",
    "df.select(numeric_features).describe().toPandas().transpose()"
   ]
  },
  {
   "cell_type": "code",
   "execution_count": 41,
   "id": "67b9ff9e",
   "metadata": {},
   "outputs": [
    {
     "data": {
      "text/plain": [
       "<AxesSubplot:xlabel='Pregnancies', ylabel='Count'>"
      ]
     },
     "execution_count": 41,
     "metadata": {},
     "output_type": "execute_result"
    },
    {
     "data": {
      "image/png": "[encoded data removed]",
      "text/plain": [
       "<Figure size 720x1080 with 1 Axes>"
      ]
     },
     "metadata": {
      "needs_background": "light"
     },
     "output_type": "display_data"
    }
   ],
   "source": [
    "import seaborn as sns\n",
    "plt.figure(figsize=(10,15))\n",
    "sf1=df.toPandas()\n",
    "sns.set_style('whitegrid')\n",
    "sns.histplot(x='Pregnancies',hue='Age',data=sf1)"
   ]
  },
  {
   "cell_type": "code",
   "execution_count": 59,
   "id": "eb56f9f0",
   "metadata": {},
   "outputs": [
    {
     "data": {
      "image/png": "[encoded data removed]",
      "text/plain": [
       "<Figure size 576x576 with 49 Axes>"
      ]
     },
     "metadata": {},
     "output_type": "display_data"
    }
   ],
   "source": [
    "from pandas.plotting import scatter_matrix\n",
    "numeric_data = df.select(numeric_features).toPandas()\n",
    "\n",
    "axs = scatter_matrix(numeric_data, figsize=(8, 8));\n",
    "\n",
    "# Rotate axis labels and remove axis ticks\n",
    "n = len(numeric_data.columns)\n",
    "for i in range(n):\n",
    "    v = axs[i, 0]\n",
    "    v.yaxis.label.set_rotation(0)\n",
    "    v.yaxis.label.set_ha('right')\n",
    "    v.set_yticks(())\n",
    "    h = axs[n-1, i]\n",
    "    h.xaxis.label.set_rotation(90)\n",
    "    h.set_xticks(())"
   ]
  },
  {
   "cell_type": "markdown",
   "id": "45a72d90",
   "metadata": {},
   "source": [
    "### Correlation & Feature Selection"
   ]
  },
  {
   "cell_type": "code",
   "execution_count": 42,
   "id": "3fc15541",
   "metadata": {},
   "outputs": [
    {
     "name": "stdout",
     "output_type": "stream",
     "text": [
      "correlation to outcome for Pregnancies is 0.22443699263363961\n",
      "correlation to outcome for Glucose is 0.48796646527321064\n",
      "correlation to outcome for BloodPressure is 0.17171333286446713\n",
      "correlation to outcome for SkinThickness is 0.1659010662889893\n",
      "correlation to outcome for Insulin is 0.1711763270226193\n",
      "correlation to outcome for BMI is 0.2827927569760082\n",
      "correlation to outcome for DiabetesPedigreeFunction is 0.1554590791569403\n",
      "correlation to outcome for Age is 0.23650924717620253\n",
      "correlation to outcome for Outcome is 1.0\n"
     ]
    }
   ],
   "source": [
    "for i in df.columns:\n",
    "    print(\"correlation to outcome for {} is {}\".format(i,df.stat.corr('outcome',i)))"
   ]
  },
  {
   "cell_type": "code",
   "execution_count": 43,
   "id": "3455a736",
   "metadata": {},
   "outputs": [
    {
     "data": {
      "text/plain": [
       "['Pregnancies',\n",
       " 'Glucose',\n",
       " 'BloodPressure',\n",
       " 'SkinThickness',\n",
       " 'Insulin',\n",
       " 'BMI',\n",
       " 'DiabetesPedigreeFunction',\n",
       " 'Age',\n",
       " 'Outcome']"
      ]
     },
     "execution_count": 43,
     "metadata": {},
     "output_type": "execute_result"
    }
   ],
   "source": [
    "df.columns"
   ]
  },
  {
   "cell_type": "code",
   "execution_count": 44,
   "id": "beab7f18",
   "metadata": {},
   "outputs": [],
   "source": [
    "from pyspark.ml.feature import VectorAssembler\n",
    "assembler = VectorAssembler(inputCols=['Pregnancies',\n",
    " 'Glucose',\n",
    " 'BloodPressure',\n",
    " 'SkinThickness',\n",
    " 'Insulin',\n",
    " 'BMI',\n",
    " 'DiabetesPedigreeFunction',\n",
    " 'Age'],outputCol=\"features\")\n",
    "output_data=assembler.transform(df)"
   ]
  },
  {
   "cell_type": "code",
   "execution_count": 45,
   "id": "bf1a347e",
   "metadata": {},
   "outputs": [
    {
     "name": "stdout",
     "output_type": "stream",
     "text": [
      "root\n",
      " |-- Pregnancies: integer (nullable = true)\n",
      " |-- Glucose: integer (nullable = true)\n",
      " |-- BloodPressure: integer (nullable = true)\n",
      " |-- SkinThickness: integer (nullable = true)\n",
      " |-- Insulin: integer (nullable = true)\n",
      " |-- BMI: double (nullable = true)\n",
      " |-- DiabetesPedigreeFunction: double (nullable = true)\n",
      " |-- Age: integer (nullable = true)\n",
      " |-- Outcome: integer (nullable = true)\n",
      " |-- features: vector (nullable = true)\n",
      "\n"
     ]
    }
   ],
   "source": [
    "output_data.printSchema()"
   ]
  },
  {
   "cell_type": "markdown",
   "id": "b9318cc9",
   "metadata": {},
   "source": [
    "### Model Creation"
   ]
  },
  {
   "cell_type": "code",
   "execution_count": 46,
   "id": "d37969b7",
   "metadata": {},
   "outputs": [
    {
     "name": "stdout",
     "output_type": "stream",
     "text": [
      "root\n",
      " |-- features: vector (nullable = true)\n",
      " |-- Outcome: integer (nullable = true)\n",
      "\n"
     ]
    }
   ],
   "source": [
    "from pyspark.ml.classification import LogisticRegression\n",
    "final_data = output_data.select('features','Outcome')\n",
    "final_data.printSchema()"
   ]
  },
  {
   "cell_type": "code",
   "execution_count": 47,
   "id": "b89fd5f9",
   "metadata": {},
   "outputs": [],
   "source": [
    "train,test = final_data.randomSplit([0.7,0.3])\n",
    "Model = LogisticRegression(labelCol=\"Outcome\")\n",
    "model=Model.fit(train)"
   ]
  },
  {
   "cell_type": "code",
   "execution_count": 48,
   "id": "2df0c3a1",
   "metadata": {},
   "outputs": [
    {
     "name": "stdout",
     "output_type": "stream",
     "text": [
      "+-------+------------------+-------------------+\n",
      "|summary|           Outcome|         prediction|\n",
      "+-------+------------------+-------------------+\n",
      "|  count|              1398|               1398|\n",
      "|   mean|0.3419170243204578| 0.2625178826895565|\n",
      "| stddev|0.4745216951930554|0.44016000300025326|\n",
      "|    min|               0.0|                0.0|\n",
      "|    max|               1.0|                1.0|\n",
      "+-------+------------------+-------------------+\n",
      "\n"
     ]
    }
   ],
   "source": [
    "summary=model.summary\n",
    "summary.predictions.describe().show()"
   ]
  },
  {
   "cell_type": "markdown",
   "id": "9c1b8d10",
   "metadata": {},
   "source": [
    "### Evaluate And Save Model"
   ]
  },
  {
   "cell_type": "code",
   "execution_count": 49,
   "id": "375bb02c",
   "metadata": {},
   "outputs": [],
   "source": [
    "from pyspark.ml.evaluation import BinaryClassificationEvaluator\n",
    "pred = model.evaluate(test)"
   ]
  },
  {
   "cell_type": "code",
   "execution_count": 50,
   "id": "3696b407",
   "metadata": {},
   "outputs": [
    {
     "name": "stdout",
     "output_type": "stream",
     "text": [
      "+--------------------+-------+--------------------+--------------------+----------+\n",
      "|            features|Outcome|       rawPrediction|         probability|prediction|\n",
      "+--------------------+-------+--------------------+--------------------+----------+\n",
      "|[0.0,57.0,60.0,20...|      0|[3.72453451095047...|[0.97644394652305...|       0.0|\n",
      "|[0.0,73.0,69.0,20...|      0|[4.14320058836625...|[0.98437601298145...|       0.0|\n",
      "|[0.0,73.0,69.0,20...|      0|[4.14320058836625...|[0.98437601298145...|       0.0|\n",
      "|[0.0,74.0,52.0,10...|      0|[3.63249618007221...|[0.97423150102305...|       0.0|\n",
      "|[0.0,78.0,88.0,29...|      0|[2.70176119353162...|[0.93713048799013...|       0.0|\n",
      "|[0.0,84.0,64.0,22...|      0|[2.45519874877093...|[0.92094079500972...|       0.0|\n",
      "|[0.0,84.0,82.0,31...|      0|[2.72155885578044...|[0.93828686039572...|       0.0|\n",
      "|[0.0,86.0,68.0,32...|      0|[2.75191104220093...|[0.94002118762156...|       0.0|\n",
      "|[0.0,93.0,60.0,25...|      0|[2.71139408361381...|[0.93769564421618...|       0.0|\n",
      "|[0.0,93.0,100.0,3...|      0|[0.90586271762595...|[0.71215280128798...|       0.0|\n",
      "+--------------------+-------+--------------------+--------------------+----------+\n",
      "only showing top 10 rows\n",
      "\n"
     ]
    }
   ],
   "source": [
    "pred.predictions.show(10)"
   ]
  },
  {
   "cell_type": "code",
   "execution_count": 51,
   "id": "6003a08c",
   "metadata": {},
   "outputs": [
    {
     "data": {
      "text/plain": [
       "0.8464254192409532"
      ]
     },
     "execution_count": 51,
     "metadata": {},
     "output_type": "execute_result"
    }
   ],
   "source": [
    "evaluator = BinaryClassificationEvaluator(rawPredictionCol='rawPrediction',labelCol='Outcome')\n",
    "evaluator.evaluate(model.transform(test))"
   ]
  },
  {
   "cell_type": "markdown",
   "id": "a58692b0",
   "metadata": {},
   "source": [
    "### Saving creating model as module"
   ]
  },
  {
   "cell_type": "markdown",
   "id": "0fd0b54c",
   "metadata": {},
   "source": [
    "model.save(\"diabeticlogregmodel\")"
   ]
  },
  {
   "cell_type": "markdown",
   "id": "9828da8e",
   "metadata": {},
   "source": [
    "from pyspark.ml.classification import LogisticRegressionModel\n",
    "model = LogisticRegressionModel.load('diabeticlogregmodel')"
   ]
  },
  {
   "cell_type": "markdown",
   "id": "d23aed89",
   "metadata": {},
   "source": [
    "### Prediction on New data with saved model"
   ]
  },
  {
   "cell_type": "code",
   "execution_count": 53,
   "id": "18ffc207",
   "metadata": {},
   "outputs": [],
   "source": [
    "test_df1 = spark.read.csv(\"newd/new_test.csv\",header = True,inferSchema=True)"
   ]
  },
  {
   "cell_type": "code",
   "execution_count": 54,
   "id": "6a2afb5a",
   "metadata": {},
   "outputs": [
    {
     "name": "stdout",
     "output_type": "stream",
     "text": [
      "root\n",
      " |-- Pregnancies: integer (nullable = true)\n",
      " |-- Glucose: integer (nullable = true)\n",
      " |-- BloodPressure: integer (nullable = true)\n",
      " |-- SkinThickness: integer (nullable = true)\n",
      " |-- Insulin: integer (nullable = true)\n",
      " |-- BMI: double (nullable = true)\n",
      " |-- DiabetesPedigreeFunction: double (nullable = true)\n",
      " |-- Age: integer (nullable = true)\n",
      "\n"
     ]
    }
   ],
   "source": [
    "test_df1.printSchema()"
   ]
  },
  {
   "cell_type": "code",
   "execution_count": 55,
   "id": "834404a3",
   "metadata": {},
   "outputs": [],
   "source": [
    "test_data= assembler.transform(test_df1)"
   ]
  },
  {
   "cell_type": "code",
   "execution_count": 56,
   "id": "2c4324b4",
   "metadata": {},
   "outputs": [
    {
     "name": "stdout",
     "output_type": "stream",
     "text": [
      "root\n",
      " |-- Pregnancies: integer (nullable = true)\n",
      " |-- Glucose: integer (nullable = true)\n",
      " |-- BloodPressure: integer (nullable = true)\n",
      " |-- SkinThickness: integer (nullable = true)\n",
      " |-- Insulin: integer (nullable = true)\n",
      " |-- BMI: double (nullable = true)\n",
      " |-- DiabetesPedigreeFunction: double (nullable = true)\n",
      " |-- Age: integer (nullable = true)\n",
      " |-- features: vector (nullable = true)\n",
      " |-- rawPrediction: vector (nullable = true)\n",
      " |-- probability: vector (nullable = true)\n",
      " |-- prediction: double (nullable = false)\n",
      "\n"
     ]
    }
   ],
   "source": [
    "result= model.transform(test_data)\n",
    "result.printSchema()"
   ]
  },
  {
   "cell_type": "code",
   "execution_count": 57,
   "id": "e0e33dfd",
   "metadata": {},
   "outputs": [
    {
     "name": "stdout",
     "output_type": "stream",
     "text": [
      "+--------------------+----------+\n",
      "|            features|prediction|\n",
      "+--------------------+----------+\n",
      "|[1.0,190.0,78.0,3...|       1.0|\n",
      "|[0.0,80.0,84.0,36...|       0.0|\n",
      "|[2.0,138.0,82.0,4...|       1.0|\n",
      "|[1.0,110.0,63.0,4...|       1.0|\n",
      "+--------------------+----------+\n",
      "\n"
     ]
    }
   ],
   "source": [
    "result.select('features','prediction').show()"
   ]
  },
  {
   "cell_type": "markdown",
   "id": "3fe50ea8",
   "metadata": {},
   "source": [
    "### RandomForestClassifier"
   ]
  },
  {
   "cell_type": "code",
   "execution_count": 60,
   "id": "4743e688",
   "metadata": {},
   "outputs": [],
   "source": [
    "from pyspark.ml.classification import RandomForestClassifier\n",
    "\n",
    "rf = RandomForestClassifier(labelCol='Outcome', \n",
    "                            featuresCol='features',\n",
    "                            maxDepth=5)\n",
    "model = rf.fit(train)\n",
    "rf_predictions = model.transform(test)"
   ]
  },
  {
   "cell_type": "code",
   "execution_count": 61,
   "id": "1644e1a2",
   "metadata": {},
   "outputs": [
    {
     "name": "stdout",
     "output_type": "stream",
     "text": [
      "Random Forest classifier Accuracy: 0.8305647840531561\n"
     ]
    }
   ],
   "source": [
    "from pyspark.ml.evaluation import MulticlassClassificationEvaluator\n",
    "\n",
    "multi_evaluator = MulticlassClassificationEvaluator(labelCol = 'Outcome', metricName = 'accuracy')\n",
    "print('Random Forest classifier Accuracy:', multi_evaluator.evaluate(rf_predictions))"
   ]
  },
  {
   "cell_type": "markdown",
   "id": "1b4e6994",
   "metadata": {},
   "source": [
    "### DecisionTreeClassifier"
   ]
  },
  {
   "cell_type": "code",
   "execution_count": 63,
   "id": "faf4a3d1",
   "metadata": {},
   "outputs": [
    {
     "name": "stdout",
     "output_type": "stream",
     "text": [
      "0.7657807308970099\n"
     ]
    }
   ],
   "source": [
    "from pyspark.ml.classification import DecisionTreeClassifier\n",
    "\n",
    "dt = DecisionTreeClassifier(featuresCol = 'features', labelCol = 'Outcome', maxDepth = 3)\n",
    "dtModel = dt.fit(train)\n",
    "dt_predictions = dtModel.transform(test)\n",
    "print(multi_evaluator.evaluate(dt_predictions))\n"
   ]
  },
  {
   "cell_type": "code",
   "execution_count": 65,
   "id": "f4041274",
   "metadata": {},
   "outputs": [
    {
     "data": {
      "text/plain": [
       "['features', 'Outcome', 'rawPrediction', 'probability', 'prediction']"
      ]
     },
     "execution_count": 65,
     "metadata": {},
     "output_type": "execute_result"
    }
   ],
   "source": [
    "dt_predictions.columns"
   ]
  },
  {
   "cell_type": "code",
   "execution_count": 64,
   "id": "8c11f789",
   "metadata": {},
   "outputs": [
    {
     "name": "stdout",
     "output_type": "stream",
     "text": [
      "+--------------------+-------+-------------+--------------------+----------+\n",
      "|            features|Outcome|rawPrediction|         probability|prediction|\n",
      "+--------------------+-------+-------------+--------------------+----------+\n",
      "|[0.0,57.0,60.0,20...|      0|[705.0,165.0]|[0.81034482758620...|       0.0|\n",
      "|[0.0,73.0,69.0,20...|      0|[705.0,165.0]|[0.81034482758620...|       0.0|\n",
      "|[0.0,73.0,69.0,20...|      0|[705.0,165.0]|[0.81034482758620...|       0.0|\n",
      "|[0.0,74.0,52.0,10...|      0|[705.0,165.0]|[0.81034482758620...|       0.0|\n",
      "|[0.0,78.0,88.0,29...|      0|[705.0,165.0]|[0.81034482758620...|       0.0|\n",
      "|[0.0,84.0,64.0,22...|      0|[705.0,165.0]|[0.81034482758620...|       0.0|\n",
      "|[0.0,84.0,82.0,31...|      0|[705.0,165.0]|[0.81034482758620...|       0.0|\n",
      "|[0.0,86.0,68.0,32...|      0|[705.0,165.0]|[0.81034482758620...|       0.0|\n",
      "|[0.0,93.0,60.0,25...|      0|[705.0,165.0]|[0.81034482758620...|       0.0|\n",
      "|[0.0,93.0,100.0,3...|      0|[705.0,165.0]|[0.81034482758620...|       0.0|\n",
      "+--------------------+-------+-------------+--------------------+----------+\n",
      "only showing top 10 rows\n",
      "\n"
     ]
    }
   ],
   "source": [
    "dt_predictions.show(10)"
   ]
  },
  {
   "cell_type": "code",
   "execution_count": null,
   "id": "29066b69",
   "metadata": {},
   "outputs": [],
   "source": []
  }
 ],
 "metadata": {
  "kernelspec": {
   "display_name": "Python 3 (ipykernel)",
   "language": "python",
   "name": "python3"
  },
  "language_info": {
   "codemirror_mode": {
    "name": "ipython",
    "version": 3
   },
   "file_extension": ".py",
   "mimetype": "text/x-python",
   "name": "python",
   "nbconvert_exporter": "python",
   "pygments_lexer": "ipython3",
   "version": "3.9.12"
  }
 },
 "nbformat": 4,
 "nbformat_minor": 5
}
